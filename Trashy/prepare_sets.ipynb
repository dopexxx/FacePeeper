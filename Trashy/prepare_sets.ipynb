{
 "cells": [
  {
   "cell_type": "code",
   "execution_count": 8,
   "metadata": {
    "collapsed": false
   },
   "outputs": [],
   "source": [
    "import sys\n",
    "import os\n",
    "import glob\n",
    "import numpy as np\n",
    "from scipy import misc\n",
    "from sklearn.model_selection import train_test_split\n",
    "import matplotlib.pyplot as plt\n",
    "import pickle\n",
    "\n",
    "\n",
    "def read_images_from_directory(directory,suffix,shape):\n",
    "    \"\"\"\n",
    "    Read all images found in DIRECTORY with given file\n",
    "    name SUFFIX. All images should have the same SHAPE,\n",
    "    specified as (rows,columns).\n",
    "    \n",
    "    Returns:\n",
    "        images: A numpy array of shape m*rows*columns (from shape)\n",
    "        names: A list of corresponding image names.sys\n",
    "    \"\"\"\n",
    "    \n",
    "    # initialize the image array and name list\n",
    "    images = np.empty((0, shape[0],shape[1],shape[2]))\n",
    "    names = []\n",
    "    \n",
    "    i = 0\n",
    "    \n",
    "    #now loop through all image files in the directory\n",
    "    for file_name in glob.glob(directory + os.sep + '*.' + suffix):\n",
    "    \n",
    "        if os.path.isfile(file_name):\n",
    "            # load each image\n",
    "            img = misc.imread(file_name, mode = 'RGB')\n",
    "            \n",
    "            # check for correct size\n",
    "            if img.shape == shape:\n",
    "                images = np.append(images,img.reshape((1,shape[0],shape[1],shape[2])),axis=0)\n",
    "                names.append(os.path.basename(file_name))\n",
    "            else:\n",
    "                print('warning: Image \"' + file_name + '\" with wrong size will be ignored!', file=sys.stderr)\n",
    "    \n",
    "        i += 1\n",
    "        if i%250 == 0:\n",
    "            print(i)\n",
    "    \n",
    "    return images, names\n",
    "\n",
    "\n",
    "def load(path, labels = False):\n",
    "    with open(path, \"rb\") as fd:\n",
    "        return pickle.load(fd)\n",
    "\n",
    "\n",
    "def dump(path,array):\n",
    "    with open(path, 'wb') as f:\n",
    "        pickle.dump(array,f)\n",
    "\n",
    "\n",
    "img_shape = (112,112,3)\n",
    "train_imgs, train_names = read_images_from_directory('Data_unzipped', 'jpg', img_shape)\n",
    "\n",
    "\n",
    "train, test, train_label, test_label = train_test_split(train_imgs, train_names, \\\n",
    "                                            test_size=0.2, random_state=50)\n",
    "\n",
    "directory = ''\n",
    "dump(directory + 'trainingData.pickle', train)\n",
    "dump(directory + 'trainingLabels.pickle', train_label)\n",
    "dump(directory + 'testData.pickle', test)\n",
    "dump(directory + 'testLabels.pickle', test_label)"
   ]
  },
  {
   "cell_type": "code",
   "execution_count": 9,
   "metadata": {
    "collapsed": false
   },
   "outputs": [
    {
     "data": {
      "text/plain": [
       "(4,)"
      ]
     },
     "execution_count": 9,
     "metadata": {},
     "output_type": "execute_result"
    }
   ],
   "source": [
    "from scipy import misc\n",
    "import numpy as np\n",
    "b = np.array([1,112,112,3])\n",
    "a = misc.imread('100_1.jpg')\n",
    "b.shape"
   ]
  }
 ],
 "metadata": {
  "anaconda-cloud": {},
  "kernelspec": {
   "display_name": "Python 3",
   "language": "python",
   "name": "python3"
  },
  "language_info": {
   "codemirror_mode": {
    "name": "ipython",
    "version": 3
   },
   "file_extension": ".py",
   "mimetype": "text/x-python",
   "name": "python",
   "nbconvert_exporter": "python",
   "pygments_lexer": "ipython3",
   "version": "3.4.5"
  }
 },
 "nbformat": 4,
 "nbformat_minor": 1
}
